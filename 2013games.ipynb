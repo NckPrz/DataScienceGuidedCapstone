{
 "cells": [
  {
   "cell_type": "code",
   "execution_count": 1,
   "id": "62d0aaa2-0270-4261-9ed4-74a9adafd663",
   "metadata": {},
   "outputs": [
    {
     "name": "stdout",
     "output_type": "stream",
     "text": [
      "('game_info',)\n",
      "('player_stats',)\n",
      "('team_stats',)\n"
     ]
    }
   ],
   "source": [
    "import sqlite3\n",
    "import pandas as pd\n",
    "\n",
    "# Connect to the database\n",
    "conn = sqlite3.connect(\"NBA-Boxscore-Database.sqlite\")  # replace with your file\n",
    "\n",
    "# Load data into a DataFrame\n",
    "#df = pd.read_sql_query(\"SELECT * FROM \", conn)\n",
    "\n",
    "# Close the connection\n",
    "#conn.close()\n",
    "\n",
    "\n",
    "\n",
    "\n",
    "# Get a list of all table names\n",
    "cursor = conn.cursor()\n",
    "cursor.execute(\"SELECT name FROM sqlite_master WHERE type='table';\")\n",
    "tables = cursor.fetchall()\n",
    "\n",
    "# Print table names\n",
    "for table in tables:\n",
    "    print(table)\n",
    "\n",
    "conn.close()\n"
   ]
  },
  {
   "cell_type": "code",
   "execution_count": 9,
   "id": "5689d515-842d-45c4-a7ca-1ad91f11047a",
   "metadata": {},
   "outputs": [
    {
     "name": "stdout",
     "output_type": "stream",
     "text": [
      "            game_id  season        date away_team  away_score home_team  \\\n",
      "0      131410290001    1314  2013-10-29       ORL          87       IND   \n",
      "1      131410290002    1314  2013-10-29       CHI          95       MIA   \n",
      "2      131410290003    1314  2013-10-29       LAC         103       LAL   \n",
      "3      131410300004    1314  2013-10-30       BRK          94       CLE   \n",
      "4      131410300005    1314  2013-10-30       BOS          87       TOR   \n",
      "...             ...     ...         ...       ...         ...       ...   \n",
      "11974  222304091226    2223  2023-04-09       UTA         117       LAL   \n",
      "11975  222304091227    2223  2023-04-09       NOP         108       MIN   \n",
      "11976  222304091228    2223  2023-04-09       MEM         100       OKC   \n",
      "11977  222304091229    2223  2023-04-09       LAC         119       PHO   \n",
      "11978  222304091230    2223  2023-04-09       GSW         157       POR   \n",
      "\n",
      "       home_score  result  \n",
      "0              97       1  \n",
      "1             107       1  \n",
      "2             116       1  \n",
      "3              98       1  \n",
      "4              93       1  \n",
      "...           ...     ...  \n",
      "11974         128       1  \n",
      "11975         113       1  \n",
      "11976         115       1  \n",
      "11977         114       0  \n",
      "11978         101       0  \n",
      "\n",
      "[11979 rows x 8 columns]\n"
     ]
    }
   ],
   "source": [
    "conn = sqlite3.connect(\"NBA-Boxscore-Database.sqlite\")\n",
    "\n",
    "# Load data into a DataFrame\n",
    "\n",
    "df = pd.read_sql_query(\"SELECT * FROM game_info \", conn)\n",
    "\n",
    "print(df)\n",
    "# Close the connection\n",
    "conn.close()\n"
   ]
  },
  {
   "cell_type": "code",
   "execution_count": 18,
   "id": "363e19e7-126c-4f3a-beba-843b481aa06e",
   "metadata": {},
   "outputs": [],
   "source": [
    "df['date'] = pd.to_datetime(df['date'])"
   ]
  },
  {
   "cell_type": "code",
   "execution_count": 20,
   "id": "a323b6ce-16e1-4637-96ae-5ca4580fa87f",
   "metadata": {},
   "outputs": [
    {
     "data": {
      "text/plain": [
       "0       2013-10-29\n",
       "1       2013-10-29\n",
       "2       2013-10-29\n",
       "3       2013-10-30\n",
       "4       2013-10-30\n",
       "           ...    \n",
       "11974   2023-04-09\n",
       "11975   2023-04-09\n",
       "11976   2023-04-09\n",
       "11977   2023-04-09\n",
       "11978   2023-04-09\n",
       "Name: date, Length: 11979, dtype: datetime64[ns]"
      ]
     },
     "execution_count": 20,
     "metadata": {},
     "output_type": "execute_result"
    }
   ],
   "source": [
    "df['date'] "
   ]
  },
  {
   "cell_type": "code",
   "execution_count": 22,
   "id": "8fccc35d-4d3d-4d6b-8a21-acad18cac50a",
   "metadata": {},
   "outputs": [
    {
     "data": {
      "text/plain": [
       "0        1314\n",
       "1        1314\n",
       "2        1314\n",
       "3        1314\n",
       "4        1314\n",
       "         ... \n",
       "11974    2223\n",
       "11975    2223\n",
       "11976    2223\n",
       "11977    2223\n",
       "11978    2223\n",
       "Name: season, Length: 11979, dtype: int64"
      ]
     },
     "execution_count": 22,
     "metadata": {},
     "output_type": "execute_result"
    }
   ],
   "source": [
    "df['season']"
   ]
  },
  {
   "cell_type": "code",
   "execution_count": 24,
   "id": "e7865c35-f657-4161-8e27-cad7e2199022",
   "metadata": {},
   "outputs": [],
   "source": [
    "df['season'] = df['season'].astype(str).str[:2] + \"-\" + df[\"season\"].astype(str).str[2:]\n"
   ]
  },
  {
   "cell_type": "code",
   "execution_count": 26,
   "id": "094a19f2-5ce5-425d-9717-b956345360ac",
   "metadata": {},
   "outputs": [
    {
     "data": {
      "text/plain": [
       "0        13-14\n",
       "1        13-14\n",
       "2        13-14\n",
       "3        13-14\n",
       "4        13-14\n",
       "         ...  \n",
       "11974    22-23\n",
       "11975    22-23\n",
       "11976    22-23\n",
       "11977    22-23\n",
       "11978    22-23\n",
       "Name: season, Length: 11979, dtype: object"
      ]
     },
     "execution_count": 26,
     "metadata": {},
     "output_type": "execute_result"
    }
   ],
   "source": [
    "df['season']"
   ]
  },
  {
   "cell_type": "code",
   "execution_count": null,
   "id": "2744feba-0a9a-4a4d-bbd0-9467bef768f3",
   "metadata": {},
   "outputs": [],
   "source": []
  }
 ],
 "metadata": {
  "kernelspec": {
   "display_name": "Python 3 (ipykernel)",
   "language": "python",
   "name": "python3"
  },
  "language_info": {
   "codemirror_mode": {
    "name": "ipython",
    "version": 3
   },
   "file_extension": ".py",
   "mimetype": "text/x-python",
   "name": "python",
   "nbconvert_exporter": "python",
   "pygments_lexer": "ipython3",
   "version": "3.12.7"
  }
 },
 "nbformat": 4,
 "nbformat_minor": 5
}
