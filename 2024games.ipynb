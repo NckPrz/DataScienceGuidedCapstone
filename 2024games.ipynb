{
 "cells": [
  {
   "cell_type": "code",
   "execution_count": 1,
   "id": "9deb7f9f-3702-475c-8d7b-930483dee019",
   "metadata": {},
   "outputs": [],
   "source": [
    "import pandas as pd \n",
    "import time"
   ]
  },
  {
   "cell_type": "code",
   "execution_count": 2,
   "id": "aa20f064-446e-4db5-ad1b-bf1493f56552",
   "metadata": {},
   "outputs": [],
   "source": [
    "months = [\"october\", \"november\", \"december\", \"january\", \"february\", \"march\", \"april\", \"may\", \"june\"]\n",
    "years = [\"2022\", \"2023\", \"2024\"]\n",
    "# Add more as needed\n",
    "urls = {}\n",
    "\n",
    "for year in years:\n",
    "    for month in months:\n",
    "        url = f\"https://www.basketball-reference.com/leagues/NBA_{year}_games-{month}.html\"\n",
    "        urls[f\"{month}_{year}\"] = url\n",
    "        #urls[month] = url # You can attach any object instead of just the URL\n",
    "    "
   ]
  },
  {
   "cell_type": "code",
   "execution_count": 3,
   "id": "af077925-2027-4fa6-a184-036640d7d822",
   "metadata": {},
   "outputs": [
    {
     "data": {
      "text/plain": [
       "{'october_2022': 'https://www.basketball-reference.com/leagues/NBA_2022_games-october.html',\n",
       " 'november_2022': 'https://www.basketball-reference.com/leagues/NBA_2022_games-november.html',\n",
       " 'december_2022': 'https://www.basketball-reference.com/leagues/NBA_2022_games-december.html',\n",
       " 'january_2022': 'https://www.basketball-reference.com/leagues/NBA_2022_games-january.html',\n",
       " 'february_2022': 'https://www.basketball-reference.com/leagues/NBA_2022_games-february.html',\n",
       " 'march_2022': 'https://www.basketball-reference.com/leagues/NBA_2022_games-march.html',\n",
       " 'april_2022': 'https://www.basketball-reference.com/leagues/NBA_2022_games-april.html',\n",
       " 'may_2022': 'https://www.basketball-reference.com/leagues/NBA_2022_games-may.html',\n",
       " 'june_2022': 'https://www.basketball-reference.com/leagues/NBA_2022_games-june.html',\n",
       " 'october_2023': 'https://www.basketball-reference.com/leagues/NBA_2023_games-october.html',\n",
       " 'november_2023': 'https://www.basketball-reference.com/leagues/NBA_2023_games-november.html',\n",
       " 'december_2023': 'https://www.basketball-reference.com/leagues/NBA_2023_games-december.html',\n",
       " 'january_2023': 'https://www.basketball-reference.com/leagues/NBA_2023_games-january.html',\n",
       " 'february_2023': 'https://www.basketball-reference.com/leagues/NBA_2023_games-february.html',\n",
       " 'march_2023': 'https://www.basketball-reference.com/leagues/NBA_2023_games-march.html',\n",
       " 'april_2023': 'https://www.basketball-reference.com/leagues/NBA_2023_games-april.html',\n",
       " 'may_2023': 'https://www.basketball-reference.com/leagues/NBA_2023_games-may.html',\n",
       " 'june_2023': 'https://www.basketball-reference.com/leagues/NBA_2023_games-june.html',\n",
       " 'october_2024': 'https://www.basketball-reference.com/leagues/NBA_2024_games-october.html',\n",
       " 'november_2024': 'https://www.basketball-reference.com/leagues/NBA_2024_games-november.html',\n",
       " 'december_2024': 'https://www.basketball-reference.com/leagues/NBA_2024_games-december.html',\n",
       " 'january_2024': 'https://www.basketball-reference.com/leagues/NBA_2024_games-january.html',\n",
       " 'february_2024': 'https://www.basketball-reference.com/leagues/NBA_2024_games-february.html',\n",
       " 'march_2024': 'https://www.basketball-reference.com/leagues/NBA_2024_games-march.html',\n",
       " 'april_2024': 'https://www.basketball-reference.com/leagues/NBA_2024_games-april.html',\n",
       " 'may_2024': 'https://www.basketball-reference.com/leagues/NBA_2024_games-may.html',\n",
       " 'june_2024': 'https://www.basketball-reference.com/leagues/NBA_2024_games-june.html'}"
      ]
     },
     "execution_count": 3,
     "metadata": {},
     "output_type": "execute_result"
    }
   ],
   "source": [
    "urls"
   ]
  },
  {
   "cell_type": "code",
   "execution_count": 9,
   "id": "88b8fa4f-6f8d-44f6-9df2-b4feb4d5e429",
   "metadata": {
    "scrolled": true
   },
   "outputs": [
    {
     "name": "stdout",
     "output_type": "stream",
     "text": [
      "Failed to load https://www.basketball-reference.com/leagues/NBA_2022_games-october.html: HTTP Error 429: Too Many Requests\n",
      "Failed to load https://www.basketball-reference.com/leagues/NBA_2022_games-november.html: HTTP Error 429: Too Many Requests\n",
      "Failed to load https://www.basketball-reference.com/leagues/NBA_2022_games-december.html: HTTP Error 429: Too Many Requests\n",
      "Failed to load https://www.basketball-reference.com/leagues/NBA_2022_games-january.html: HTTP Error 429: Too Many Requests\n",
      "Failed to load https://www.basketball-reference.com/leagues/NBA_2022_games-february.html: HTTP Error 429: Too Many Requests\n",
      "Failed to load https://www.basketball-reference.com/leagues/NBA_2022_games-march.html: HTTP Error 429: Too Many Requests\n",
      "Failed to load https://www.basketball-reference.com/leagues/NBA_2022_games-april.html: HTTP Error 429: Too Many Requests\n",
      "Failed to load https://www.basketball-reference.com/leagues/NBA_2022_games-may.html: HTTP Error 429: Too Many Requests\n",
      "Failed to load https://www.basketball-reference.com/leagues/NBA_2022_games-june.html: HTTP Error 429: Too Many Requests\n",
      "Failed to load https://www.basketball-reference.com/leagues/NBA_2023_games-october.html: HTTP Error 429: Too Many Requests\n",
      "Failed to load https://www.basketball-reference.com/leagues/NBA_2023_games-november.html: HTTP Error 429: Too Many Requests\n",
      "Failed to load https://www.basketball-reference.com/leagues/NBA_2023_games-december.html: HTTP Error 429: Too Many Requests\n",
      "Failed to load https://www.basketball-reference.com/leagues/NBA_2023_games-january.html: HTTP Error 429: Too Many Requests\n",
      "Failed to load https://www.basketball-reference.com/leagues/NBA_2023_games-february.html: HTTP Error 429: Too Many Requests\n",
      "Failed to load https://www.basketball-reference.com/leagues/NBA_2023_games-march.html: HTTP Error 429: Too Many Requests\n",
      "Failed to load https://www.basketball-reference.com/leagues/NBA_2023_games-april.html: HTTP Error 429: Too Many Requests\n",
      "Failed to load https://www.basketball-reference.com/leagues/NBA_2023_games-may.html: HTTP Error 429: Too Many Requests\n",
      "Failed to load https://www.basketball-reference.com/leagues/NBA_2023_games-june.html: HTTP Error 429: Too Many Requests\n",
      "Failed to load https://www.basketball-reference.com/leagues/NBA_2024_games-october.html: HTTP Error 429: Too Many Requests\n",
      "Failed to load https://www.basketball-reference.com/leagues/NBA_2024_games-november.html: HTTP Error 429: Too Many Requests\n",
      "Failed to load https://www.basketball-reference.com/leagues/NBA_2024_games-december.html: HTTP Error 429: Too Many Requests\n",
      "Failed to load https://www.basketball-reference.com/leagues/NBA_2024_games-january.html: HTTP Error 429: Too Many Requests\n",
      "Failed to load https://www.basketball-reference.com/leagues/NBA_2024_games-february.html: HTTP Error 429: Too Many Requests\n",
      "Failed to load https://www.basketball-reference.com/leagues/NBA_2024_games-march.html: HTTP Error 429: Too Many Requests\n",
      "Failed to load https://www.basketball-reference.com/leagues/NBA_2024_games-april.html: HTTP Error 429: Too Many Requests\n",
      "Failed to load https://www.basketball-reference.com/leagues/NBA_2024_games-may.html: HTTP Error 429: Too Many Requests\n",
      "Failed to load https://www.basketball-reference.com/leagues/NBA_2024_games-june.html: HTTP Error 429: Too Many Requests\n"
     ]
    },
    {
     "ename": "ValueError",
     "evalue": "No objects to concatenate",
     "output_type": "error",
     "traceback": [
      "\u001b[0;31m---------------------------------------------------------------------------\u001b[0m",
      "\u001b[0;31mValueError\u001b[0m                                Traceback (most recent call last)",
      "Cell \u001b[0;32mIn[9], line 19\u001b[0m\n\u001b[1;32m     17\u001b[0m         \u001b[38;5;28mprint\u001b[39m(\u001b[38;5;124mf\u001b[39m\u001b[38;5;124m\"\u001b[39m\u001b[38;5;124mFailed to load \u001b[39m\u001b[38;5;132;01m{\u001b[39;00murl\u001b[38;5;132;01m}\u001b[39;00m\u001b[38;5;124m: \u001b[39m\u001b[38;5;132;01m{\u001b[39;00me\u001b[38;5;132;01m}\u001b[39;00m\u001b[38;5;124m\"\u001b[39m)\n\u001b[1;32m     18\u001b[0m \u001b[38;5;66;03m# Combine all the individual month DataFrames into one\u001b[39;00m\n\u001b[0;32m---> 19\u001b[0m all_games \u001b[38;5;241m=\u001b[39m \u001b[43mpd\u001b[49m\u001b[38;5;241;43m.\u001b[39;49m\u001b[43mconcat\u001b[49m\u001b[43m(\u001b[49m\u001b[43mall_months\u001b[49m\u001b[43m,\u001b[49m\u001b[43m \u001b[49m\u001b[43mignore_index\u001b[49m\u001b[38;5;241;43m=\u001b[39;49m\u001b[38;5;28;43;01mTrue\u001b[39;49;00m\u001b[43m)\u001b[49m\n",
      "File \u001b[0;32m/Library/Frameworks/Python.framework/Versions/3.10/lib/python3.10/site-packages/pandas/core/reshape/concat.py:382\u001b[0m, in \u001b[0;36mconcat\u001b[0;34m(objs, axis, join, ignore_index, keys, levels, names, verify_integrity, sort, copy)\u001b[0m\n\u001b[1;32m    379\u001b[0m \u001b[38;5;28;01melif\u001b[39;00m copy \u001b[38;5;129;01mand\u001b[39;00m using_copy_on_write():\n\u001b[1;32m    380\u001b[0m     copy \u001b[38;5;241m=\u001b[39m \u001b[38;5;28;01mFalse\u001b[39;00m\n\u001b[0;32m--> 382\u001b[0m op \u001b[38;5;241m=\u001b[39m \u001b[43m_Concatenator\u001b[49m\u001b[43m(\u001b[49m\n\u001b[1;32m    383\u001b[0m \u001b[43m    \u001b[49m\u001b[43mobjs\u001b[49m\u001b[43m,\u001b[49m\n\u001b[1;32m    384\u001b[0m \u001b[43m    \u001b[49m\u001b[43maxis\u001b[49m\u001b[38;5;241;43m=\u001b[39;49m\u001b[43maxis\u001b[49m\u001b[43m,\u001b[49m\n\u001b[1;32m    385\u001b[0m \u001b[43m    \u001b[49m\u001b[43mignore_index\u001b[49m\u001b[38;5;241;43m=\u001b[39;49m\u001b[43mignore_index\u001b[49m\u001b[43m,\u001b[49m\n\u001b[1;32m    386\u001b[0m \u001b[43m    \u001b[49m\u001b[43mjoin\u001b[49m\u001b[38;5;241;43m=\u001b[39;49m\u001b[43mjoin\u001b[49m\u001b[43m,\u001b[49m\n\u001b[1;32m    387\u001b[0m \u001b[43m    \u001b[49m\u001b[43mkeys\u001b[49m\u001b[38;5;241;43m=\u001b[39;49m\u001b[43mkeys\u001b[49m\u001b[43m,\u001b[49m\n\u001b[1;32m    388\u001b[0m \u001b[43m    \u001b[49m\u001b[43mlevels\u001b[49m\u001b[38;5;241;43m=\u001b[39;49m\u001b[43mlevels\u001b[49m\u001b[43m,\u001b[49m\n\u001b[1;32m    389\u001b[0m \u001b[43m    \u001b[49m\u001b[43mnames\u001b[49m\u001b[38;5;241;43m=\u001b[39;49m\u001b[43mnames\u001b[49m\u001b[43m,\u001b[49m\n\u001b[1;32m    390\u001b[0m \u001b[43m    \u001b[49m\u001b[43mverify_integrity\u001b[49m\u001b[38;5;241;43m=\u001b[39;49m\u001b[43mverify_integrity\u001b[49m\u001b[43m,\u001b[49m\n\u001b[1;32m    391\u001b[0m \u001b[43m    \u001b[49m\u001b[43mcopy\u001b[49m\u001b[38;5;241;43m=\u001b[39;49m\u001b[43mcopy\u001b[49m\u001b[43m,\u001b[49m\n\u001b[1;32m    392\u001b[0m \u001b[43m    \u001b[49m\u001b[43msort\u001b[49m\u001b[38;5;241;43m=\u001b[39;49m\u001b[43msort\u001b[49m\u001b[43m,\u001b[49m\n\u001b[1;32m    393\u001b[0m \u001b[43m\u001b[49m\u001b[43m)\u001b[49m\n\u001b[1;32m    395\u001b[0m \u001b[38;5;28;01mreturn\u001b[39;00m op\u001b[38;5;241m.\u001b[39mget_result()\n",
      "File \u001b[0;32m/Library/Frameworks/Python.framework/Versions/3.10/lib/python3.10/site-packages/pandas/core/reshape/concat.py:445\u001b[0m, in \u001b[0;36m_Concatenator.__init__\u001b[0;34m(self, objs, axis, join, keys, levels, names, ignore_index, verify_integrity, copy, sort)\u001b[0m\n\u001b[1;32m    442\u001b[0m \u001b[38;5;28mself\u001b[39m\u001b[38;5;241m.\u001b[39mverify_integrity \u001b[38;5;241m=\u001b[39m verify_integrity\n\u001b[1;32m    443\u001b[0m \u001b[38;5;28mself\u001b[39m\u001b[38;5;241m.\u001b[39mcopy \u001b[38;5;241m=\u001b[39m copy\n\u001b[0;32m--> 445\u001b[0m objs, keys \u001b[38;5;241m=\u001b[39m \u001b[38;5;28;43mself\u001b[39;49m\u001b[38;5;241;43m.\u001b[39;49m\u001b[43m_clean_keys_and_objs\u001b[49m\u001b[43m(\u001b[49m\u001b[43mobjs\u001b[49m\u001b[43m,\u001b[49m\u001b[43m \u001b[49m\u001b[43mkeys\u001b[49m\u001b[43m)\u001b[49m\n\u001b[1;32m    447\u001b[0m \u001b[38;5;66;03m# figure out what our result ndim is going to be\u001b[39;00m\n\u001b[1;32m    448\u001b[0m ndims \u001b[38;5;241m=\u001b[39m \u001b[38;5;28mself\u001b[39m\u001b[38;5;241m.\u001b[39m_get_ndims(objs)\n",
      "File \u001b[0;32m/Library/Frameworks/Python.framework/Versions/3.10/lib/python3.10/site-packages/pandas/core/reshape/concat.py:507\u001b[0m, in \u001b[0;36m_Concatenator._clean_keys_and_objs\u001b[0;34m(self, objs, keys)\u001b[0m\n\u001b[1;32m    504\u001b[0m     objs_list \u001b[38;5;241m=\u001b[39m \u001b[38;5;28mlist\u001b[39m(objs)\n\u001b[1;32m    506\u001b[0m \u001b[38;5;28;01mif\u001b[39;00m \u001b[38;5;28mlen\u001b[39m(objs_list) \u001b[38;5;241m==\u001b[39m \u001b[38;5;241m0\u001b[39m:\n\u001b[0;32m--> 507\u001b[0m     \u001b[38;5;28;01mraise\u001b[39;00m \u001b[38;5;167;01mValueError\u001b[39;00m(\u001b[38;5;124m\"\u001b[39m\u001b[38;5;124mNo objects to concatenate\u001b[39m\u001b[38;5;124m\"\u001b[39m)\n\u001b[1;32m    509\u001b[0m \u001b[38;5;28;01mif\u001b[39;00m keys \u001b[38;5;129;01mis\u001b[39;00m \u001b[38;5;28;01mNone\u001b[39;00m:\n\u001b[1;32m    510\u001b[0m     objs_list \u001b[38;5;241m=\u001b[39m \u001b[38;5;28mlist\u001b[39m(com\u001b[38;5;241m.\u001b[39mnot_none(\u001b[38;5;241m*\u001b[39mobjs_list))\n",
      "\u001b[0;31mValueError\u001b[0m: No objects to concatenate"
     ]
    }
   ],
   "source": [
    "all_months = []\n",
    "\n",
    "for month_year, url in urls.items():\n",
    "    try:\n",
    "        # read_html returns a list of DataFrames\n",
    "        df_list = pd.read_html(url)\n",
    "    \n",
    "        # assume only one dataframe per URL (wrapped in a list of shape [1])\n",
    "        df = df_list[0]\n",
    "\n",
    "        # optional: add a column for the month, if you want to track where it came from\n",
    "        df['Month and Year'] = month_year\n",
    "        all_months.append(df)\n",
    "        \n",
    "        time.sleep(3) \n",
    "    except Exception as e:\n",
    "        print(f\"Failed to load {url}: {e}\")\n",
    "# Combine all the individual month DataFrames into one\n",
    "all_games = pd.concat(all_months, ignore_index=True)\n"
   ]
  },
  {
   "cell_type": "code",
   "execution_count": null,
   "id": "e68f4288-771f-4f4c-8630-870f56fbe8f6",
   "metadata": {},
   "outputs": [],
   "source": [
    "all_games"
   ]
  },
  {
   "cell_type": "code",
   "execution_count": null,
   "id": "136ccecf-b22f-4def-8f79-8d76aa4a1352",
   "metadata": {},
   "outputs": [],
   "source": []
  }
 ],
 "metadata": {
  "kernelspec": {
   "display_name": "Python 3 (ipykernel)",
   "language": "python",
   "name": "python3"
  },
  "language_info": {
   "codemirror_mode": {
    "name": "ipython",
    "version": 3
   },
   "file_extension": ".py",
   "mimetype": "text/x-python",
   "name": "python",
   "nbconvert_exporter": "python",
   "pygments_lexer": "ipython3",
   "version": "3.10.0"
  }
 },
 "nbformat": 4,
 "nbformat_minor": 5
}
