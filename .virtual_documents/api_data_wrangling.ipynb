


# Install required packages if not already installed
# !pip install requests pandas matplotlib --quiet


# Import Libraries
import requests
import pandas as pd
import matplotlib.pyplot as plt
import numpy as np

# Optional: Configure matplotlib for inline display in Jupyter
#%matplotlib inline





# Step 1: Set Up Parameters

# Location coordinates for New York City
latitude = 40.7128
longitude = -74.0060

# Date range
start_date = '2023-01-01'
end_date = '2023-01-07'  # One week of data

# Variables to fetch
hourly_variables = ['temperature_2m', 'relativehumidity_2m', 'precipitation']



# Step 2: Make the API Request

base_url = 'https://archive-api.open-meteo.com/v1/archive'

params = {
    'latitude': latitude,
    'longitude': longitude,
    'start_date': start_date,
    'end_date': end_date,
    'hourly': ','.join(hourly_variables),
    'timezone': 'America/New_York'
}

response = requests.get(base_url, params=params)



# Check if the request was successful

if response.status_code == 200:
    print('Data fetched successfully!')
else:
    print(f'Failed to fetch data. Status code: {response.status_code}')



# Step 3: Load Data into pandas DataFrame

data = response.json()
hourly_data = data['hourly']

df = pd.DataFrame(hourly_data)
df.head()



# Step 4: Data Cleaning

# Convert 'time' column to datetime
df['time'] = pd.to_datetime(df['time'])

# Set 'time' as the index
df.set_index('time', inplace=True)

# Check for missing values
df.isnull().sum()



# Handle missing values (if any)
df.fillna(method='ffill', inplace=True)  # Forward fill



# Step 5: Exploratory Data Analysis

# Summary Statistics
df.describe()


# Plot Temperature Over Time

plt.figure(figsize=(14, 6))
plt.plot(df.index, df['temperature_2m'], label='Temperature (°C)')
plt.title('Temperature Over Time in New York City')
plt.xlabel('Date')
plt.ylabel('Temperature (°C)')
plt.legend()
plt.show()


# Plot Relative Humidity Over Time

plt.figure(figsize=(14, 6))
plt.plot(df.index, df['relativehumidity_2m'], color='orange', label='Relative Humidity (%)')
plt.title('Relative Humidity Over Time in New York City')
plt.xlabel('Date')
plt.ylabel('Relative Humidity (%)')
plt.legend()
plt.show()



# Plot Precipitation Over Time

plt.figure(figsize=(14, 6))
plt.bar(df.index, df['precipitation'], label='Precipitation (mm)')
plt.title('Precipitation Over Time in New York City')
plt.xlabel('Date')
plt.ylabel('Precipitation (mm)')
plt.legend()
plt.show()



# Step 6: Correlation Analysis

# Calculate correlation between temperature and humidity
correlation = df['temperature_2m'].corr(df['relativehumidity_2m'])
print(f'Correlation between Temperature and Relative Humidity: {correlation:.2f}')



# Scatter Plot of Temperature vs. Relative Humidity

plt.figure(figsize=(8, 6))
plt.scatter(df['temperature_2m'], df['relativehumidity_2m'], alpha=0.5)
plt.title('Temperature vs. Relative Humidity')
plt.xlabel('Temperature (°C)')
plt.ylabel('Relative Humidity (%)')
plt.show()



# Step 7: Resample Data to Daily Averages

daily_avg = df.resample('D').mean()
daily_avg.head()



# Plot Daily Average Temperature

plt.figure(figsize=(10, 5))
plt.plot(daily_avg.index, daily_avg['temperature_2m'], marker='o')
plt.title('Daily Average Temperature in New York City')
plt.xlabel('Date')
plt.ylabel('Temperature (°C)')
plt.grid(True)
plt.show()



# Step 8: Compare with Another Location (Los Angeles)

# Coordinates for Los Angeles
latitude_la = 34.0522
longitude_la = -118.2437

params_la = {
    'latitude': latitude_la,
    'longitude': longitude_la,
    'start_date': start_date,
    'end_date': end_date,
    'hourly': ','.join(hourly_variables),
    'timezone': 'America/Los_Angeles'
}

response_la = requests.get(base_url, params=params_la)

# Load and clean Los Angeles data
data_la = response_la.json()
hourly_data_la = data_la['hourly']
df_la = pd.DataFrame(hourly_data_la)

df_la['time'] = pd.to_datetime(df_la['time'])
df_la.set_index('time', inplace=True)
df_la.fillna(method='ffill', inplace=True)



# Resample Los Angeles Data to Daily Averages

daily_avg_la = df_la.resample('D').mean()



# Combine DataFrames for Comparison

combined_temp = pd.DataFrame({
    'New York': daily_avg['temperature_2m'],
    'Los Angeles': daily_avg_la['temperature_2m']
})



# Plot Comparison of Daily Average Temperature

combined_temp.plot(kind='bar', figsize=(10, 6))
plt.title('Daily Average Temperature: New York vs Los Angeles')
plt.xlabel('Date')
plt.ylabel('Temperature (°C)')
plt.xticks(rotation=45)
plt.grid(True)
plt.show()



# Step 9: Advanced Analysis - Temperature Difference

# Calculate Temperature Difference
combined_temp['Temp Difference'] = combined_temp['Los Angeles'] - combined_temp['New York']
combined_temp



# Step 10: Save Data to CSV (Optional)

# Save New York data
df.to_csv('new_york_weather.csv')

# Save Los Angeles data
df_la.to_csv('los_angeles_weather.csv')









longitude_london = -0.1278
latitude_london = 51.5074
start_date = '2022-01-01'
end_date = '2022-12-31'
hourly_variables = ['temperature_2m', 'relativehumidity_2m', 'precipitation']

params_london = {
    'latitude': latitude_london,
    'longitude': longitude_london,
    'start_date': start_date,
    'end_date': end_date,
    'hourly': ','.join(hourly_variables),
    'timezone': 'Europe/London'
}

response_london = requests.get(base_url, params=params_london)


if response_london.status_code == 200:
    print('Data fetched successfully!')
else:
    print(f'Failed to fetch data. Status code: {response.status_code}')



data_london = response_london.json()


london_df = pd.DataFrame(data_london['hourly'])


london_df.isnull().sum()


london_df = london_df.ffill()


london_df['time'] = pd.to_datetime(london_df['time'])


london_df.set_index('time', inplace=True)


weekly_london = london_df.resample('W').mean()


weekly_london.head()


plt.figure(figsize=(10,6))
plt.plot(weekly_london.index, weekly_london['temperature_2m'], label="Temp °C")
plt.title("Average Weekly Temperatures, London")
plt.xlabel("Dates")
plt.ylabel('Temperature °C')
plt.xticks(rotation=80)
plt.yticks([0,5,10,15,20],['0°','5°','10°','15°','20°'])
plt.grid()
plt.legend()
plt.show()


plt.figure(figsize=(10,6))
plt.plot(weekly_london.index, weekly_london['relativehumidity_2m'], color='orange',label = 'Relative Humidity (%)')
plt.xlabel('Dates')
plt.ylabel('Humidity (%)')
plt.title('Relative Humidity (%), London')
plt.grid()
plt.show()


plt.figure(figsize=(14,6))
plt.bar(weekly_london.index, weekly_london['precipitation'], label='Precipitation (mm)')
plt.title('Precipitation Levels (mm), London')
plt.xlabel('Dates')
plt.ylabel('Precipitation (mm)')
plt.grid()
plt.show()


correlation2 = weekly_london['temperature_2m'].corr(weekly_london['relativehumidity_2m'])
print(f'Correlation between Temperature and Relative Humidity: {correlation2:.2f}')



plt.figure(figsize=(10,6))
plt.scatter(weekly_london['temperature_2m'], weekly_london['relativehumidity_2m'], alpha=.5)
plt.title('Temperature vs. Humidity, London')
plt.xlabel('Temperature C°')
plt.ylabel('Humidity (%)')
plt.grid()
plt.show()


longitude_seattle = -122.3321
latitude_seattle =  47.6062

params_seattle = {
    'latitude': latitude_seattle,
    'longitude': longitude_seattle,
    'start_date': start_date,
    'end_date': end_date,
    'hourly': ','.join(hourly_variables),
    'timezone': 'America/Los_Angeles'
}

response_seattle = requests.get(base_url, params=params_seattle)


if response_seattle.status_code == 200:
    print('Data fetched successfully!')
else:
    print(f'Failed to fetch data. Status code: {response.status_code}')



data_seattle = response_seattle.json()


seattle_df = pd.DataFrame(data_seattle['hourly'])


seattle_df.head()


seattle_df.isnull().sum()


seattle_df = seattle_df.ffill()


seattle_df['time']= pd.to_datetime(seattle_df['time'])


seattle_df.set_index('time',inplace=True)


seattle_df.head()


weekly_seattle = seattle_df.resample('W').mean()


weekly_seattle.head()


plt.figure(figsize=(10,6))
plt.plot(weekly_seattle.index, weekly_seattle['temperature_2m'], label='Temperature C°')
plt.title('Weekly Temperature C°, Seattle')
plt.xlabel('Date')
plt.ylabel('Temperature C°')
plt.grid()
plt.legend()
plt.show()


plt.figure(figsize=(10,6))
plt.plot(weekly_seattle.index, weekly_seattle['relativehumidity_2m'], color='orange', label='Relative Humidity (%)')
plt.title('Relative Humidity (%), Seattle')
plt.xlabel('Dates')
plt.ylabel('Relative Humidity (%)')
plt.grid()
plt.legend()
plt.show()


plt.figure(figsize=(14,6))
plt.bar(weekly_seattle.index, weekly_seattle['precipitation'], label='Precipitation (mm)')
plt.title('Precipitation Levels (mm), Seattle')
plt.xlabel('Dates')
plt.ylabel('Precipitation (mm)')
plt.grid()
plt.legend()
plt.show()


correlation3 = weekly_seattle['temperature_2m'].corr(weekly_seattle['relativehumidity_2m'])
print(f'Correlation between Temperature and Relative Humidity: {correlation3:.2f}')



plt.figure(figsize=(10,6))
plt.scatter(weekly_seattle['temperature_2m'], weekly_seattle['relativehumidity_2m'], alpha=.5)
plt.title('Temperature vs. Humidity, Seattle')
plt.xlabel('Temperature C°')
plt.ylabel('Humidity (%)')
plt.grid()
plt.show()


both_cities = pd.DataFrame({'London': weekly_london['precipitation'],
                            'Seattle': weekly_seattle['precipitation']})
both_cities.head()


plt.figure(figsize=(14,10))
plt.bar(np.arange(len(weekly_london)) - .35 / 2,both_cities['London'],width=.35, label='London Temp')
plt.bar(np.arange(len(weekly_london)) + .35 / 2,both_cities['Seattle'],width=.35, color='orange', label = 'Seattle Temp')
plt.title('London vs. Seattle, Precipitation')
plt.xlabel('Week #')
plt.ylabel('Precipitation (mm)')
plt.legend()
plt.show()


both_cities.plot(kind='bar', figsize=(14,10))
plt.title('London vs Seattle Weekly Precipitation')
plt.xlabel('Weekly')
plt.ylabel('Precipitation')
plt.xticks(rotation=80)
plt.show()




both_cities['Weekly Precipitation Difference'] = both_cities['London'] - both_cities['Seattle']
both_cities.head()


average_diff = both_cities['Weekly Precipitation Difference'].mean()
average_diff



