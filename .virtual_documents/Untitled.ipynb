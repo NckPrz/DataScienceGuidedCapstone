import os
import requests
from dotenv import load_dotenv


load_dotenv()
API_KEY = os.getenv('nasdaq_key')

print(API_KEY)


url = "https://data.nasdaq.com/api/v3/datasets/FSE/AFX_X/data.json?api_key=6E1nZG7LehpbaBtFf3LD"



r = requests.get(url)


r



