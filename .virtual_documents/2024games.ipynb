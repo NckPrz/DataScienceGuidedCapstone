import pandas as pd 
import time


months = ["october", "november", "december", "january", "february", "march", "april", "may", "june"]
years = ["2022", "2023", "2024"]
# Add more as needed
urls = {}

for year in years:
    for month in months:
        url = f"https://www.basketball-reference.com/leagues/NBA_{year}_games-{month}.html"
        urls[f"{month}_{year}"] = url
        #urls[month] = url # You can attach any object instead of just the URL
    


urls


all_months = []

for month_year, url in urls.items():
    try:
        # read_html returns a list of DataFrames
        df_list = pd.read_html(url)
    
        # assume only one dataframe per URL (wrapped in a list of shape [1])
        df = df_list[0]

        # optional: add a column for the month, if you want to track where it came from
        df['Month and Year'] = month_year
        all_months.append(df)
        
        time.sleep(3) 
    except Exception as e:
        print(f"Failed to load {url}: {e}")
# Combine all the individual month DataFrames into one
all_games = pd.concat(all_months, ignore_index=True)



all_games


all_games.drop(["Unnamed: 6", "Unnamed: 7", "Notes"], axis=1, inplace=True)


all_games['Month and Year'] = all_games['Month and Year'].str.capitalize()


all_games['Month and Year'] = all_games['Month and Year'].str.replace('_', " ")


all_games.rename(columns= {"Visitor/Neutral":"Visitor", "PTS":"Visitor Points", "Home/Neutral": "Home", "PTS.1":"Home Points"}, inplace=True)


all_games



