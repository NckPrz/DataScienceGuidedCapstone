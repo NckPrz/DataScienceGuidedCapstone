import pandas as pd
import time


#First, upload each teams stats and information for the year 2022-24.
url_2024 = 'https://www.basketball-reference.com/leagues/NBA_2024.html'
url_2023 = 'https://www.basketball-reference.com/leagues/NBA_2023.html'
url_2022 = 'https://www.basketball-reference.com/leagues/NBA_2022.html'
table_2024 = pd.read_html(url_2024)
table_2023 = pd.read_html(url_2023)
table_2022 = pd.read_html(url_2022)



#Let's create dataframes of both conferences in the NBA as well as stats for each of those teams

Eastern_Conference_2024 = table_2024[0]
Western_Conference_2024 = table_2024[1]
Stats_2024 = table_2024[4]
Eastern_Conference_2023 = table_2023[0]
Western_Conference_2023 = table_2023[1]
Stats_2023 = table_2023[4]
Eastern_Conference_2022 = table_2022[0]
Western_Conference_2022 = table_2022[1]
Stats_2022 = table_2022[4]



#We want to combine both conferences into 1 dataframe, so lets change the name of the conference columns
#into the column name Team for each year

#2024
Western_Conference_2024 = Western_Conference_2024.rename(columns = {'Western Conference': 'Team'})
Eastern_Conference_2024 = Eastern_Conference_2024.rename(columns = {'Eastern Conference': 'Team'})
nba_teams_2024 = pd.concat([Eastern_Conference_2024, Western_Conference_2024])
#after combining both dataframes, lets merge the advanced stats dataframe with our new dataframe
nba_teams_2024 = pd.merge(nba_teams_2024, Stats_2024, on="Team", how="outer")

#2023
Western_Conference_2023 = Western_Conference_2023.rename(columns = {'Western Conference': 'Team'})
Eastern_Conference_2023 = Eastern_Conference_2023.rename(columns = {'Eastern Conference': 'Team'})
nba_teams_2023 = pd.concat([Eastern_Conference_2023, Western_Conference_2023])
nba_teams_2023 = pd.merge(nba_teams_2023, Stats_2023, on="Team", how="outer")

#2022
Western_Conference_2022 = Western_Conference_2022.rename(columns = {'Western Conference': 'Team'})
Eastern_Conference_2022 = Eastern_Conference_2022.rename(columns = {'Eastern Conference': 'Team'})
nba_teams_2022 = pd.concat([Eastern_Conference_2022, Western_Conference_2022])
nba_teams_2022 = pd.merge(nba_teams_2022, Stats_2022, on="Team", how="outer")



#2024
#Start making changes to any column names needed
nba_teams_2024.columns
nba_teams_2024.rename(columns = {'W': 'Wins', 'L': 'Losses', 'W/L%': 'Win Percentage', 'PS/G': 'Points Scored/Game',
                  'PA/G': 'Points Allowed/Game', 'FG': 'Made Field Goals', 'FGA': 'Field Goals Attempted',
                  'FG%': 'Field Goal Percentage', '3P': '3 Pointers Made', '3PA': '3 Pointers Attempted',
                  '3P%': '3 Point Percentage', '2P': '2 Pointers Made', '3PA': '2 Pointers Attempted',
                  '2P%': '2 Point Percentage', 'FT': 'Free Throws Made', 'FTA': 'Free Throws Attempted',
                  'FT%': 'Free Throw Percentage', 'ORB': 'Offensive Rebounds', 'DRB': 'Defensive Rebounds',
                  'TRB': 'Total Rebounds', 'AST': 'Assists', 'STL': 'Steals', 'BLK': 'Blocks', 'TOV': 'Turnovers',
                  'PF': 'Personal Fouls', 'PTS': 'Points'}, inplace = True)

#lets make sure to drop any columns and rows that we do not need
nba_teams_2024.drop(["GB", "SRS", "Rk", "MP", "G"], axis=1, inplace=True)
nba_teams_2024.drop(12, inplace=True)



#2023

nba_teams_2023.columns
nba_teams_2023.rename(columns = {'W': 'Wins', 'L': 'Losses', 'W/L%': 'Win Percentage', 'PS/G': 'Points Scored/Game',
                  'PA/G': 'Points Allowed/Game', 'FG': 'Made Field Goals', 'FGA': 'Field Goals Attempted',
                  'FG%': 'Field Goal Percentage', '3P': '3 Pointers Made', '3PA': '3 Pointers Attempted',
                  '3P%': '3 Point Percentage', '2P': '2 Pointers Made', '3PA': '2 Pointers Attempted',
                  '2P%': '2 Point Percentage', 'FT': 'Free Throws Made', 'FTA': 'Free Throws Attempted',
                  'FT%': 'Free Throw Percentage', 'ORB': 'Offensive Rebounds', 'DRB': 'Defensive Rebounds',
                  'TRB': 'Total Rebounds', 'AST': 'Assists', 'STL': 'Steals', 'BLK': 'Blocks', 'TOV': 'Turnovers',
                  'PF': 'Personal Fouls', 'PTS': 'Points'}, inplace = True)


nba_teams_2023.drop(["GB", "SRS", "Rk", "MP", "G"], axis=1, inplace=True)
nba_teams_2023.drop(12, inplace=True)



#2022
nba_teams_2022.columns
nba_teams_2022.rename(columns = {'W': 'Wins', 'L': 'Losses', 'W/L%': 'Win Percentage', 'PS/G': 'Points Scored/Game',
                  'PA/G': 'Points Allowed/Game', 'FG': 'Made Field Goals', 'FGA': 'Field Goals Attempted',
                  'FG%': 'Field Goal Percentage', '3P': '3 Pointers Made', '3PA': '3 Pointers Attempted',
                  '3P%': '3 Point Percentage', '2P': '2 Pointers Made', '3PA': '2 Pointers Attempted',
                  '2P%': '2 Point Percentage', 'FT': 'Free Throws Made', 'FTA': 'Free Throws Attempted',
                  'FT%': 'Free Throw Percentage', 'ORB': 'Offensive Rebounds', 'DRB': 'Defensive Rebounds',
                  'TRB': 'Total Rebounds', 'AST': 'Assists', 'STL': 'Steals', 'BLK': 'Blocks', 'TOV': 'Turnovers',
                  'PF': 'Personal Fouls', 'PTS': 'Points'}, inplace = True)

nba_teams_2022.drop(["GB", "SRS", "Rk", "MP", "G"], axis=1, inplace=True)
nba_teams_2022.drop(12, inplace=True)



#resetting index numbers
nba_teams_2024.reset_index(drop=True, inplace=True)
nba_teams_2024.index = nba_teams_2024.index + 1

nba_teams_2023.reset_index(drop=True, inplace=True)
nba_teams_2023.index = nba_teams_2023.index + 1

nba_teams_2022.reset_index(drop=True, inplace=True)
nba_teams_2022.index = nba_teams_2022.index + 1


#cleaning up extra strings
nba_teams_2024['Team'] = nba_teams_2024['Team'].str.rstrip('*')
nba_teams_2023['Team'] = nba_teams_2023['Team'].str.rstrip('*')
nba_teams_2022['Team'] = nba_teams_2022['Team'].str.rstrip('*')


#checking to see how it looks
nba_teams_2022.drop(['Wins', 'Losses'], axis=1, inplace=True)
nba_teams_2023.drop(['Wins', 'Losses'], axis=1, inplace=True)
nba_teams_2024.drop(['Wins', 'Losses'], axis=1, inplace=True)


















