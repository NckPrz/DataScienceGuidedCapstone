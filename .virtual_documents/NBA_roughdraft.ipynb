import pandas as pd


url = 'https://www.basketball-reference.com/leagues/NBA_2024.html'



table1 = pd.read_html(url)


Eastern_Conference_2024 = table1[0]
Western_Conference_2024 = table1[1]
Stats_2024 = table1[4]
Eastern_Conference_2024.head()



Western_Conference_2024.head()


#for dfs in table1: 
#    len(table1)
#    dfs
    #print("-----------------------------------------------------------------------")


Stats_2024.head()


Western_Conference_2024 = Western_Conference_2024.rename(columns = {'Western Conference': 'Team'})
Eastern_Conference_2024 = Eastern_Conference_2024.rename(columns = {'Eastern Conference': 'Team'})


type(Western_Conference_2024)


nba_teams = pd.concat([Eastern_Conference_2024, Western_Conference_2024])


nba_teams = pd.merge(nba_teams, Stats_2024, on="Team", how="outer")



nba_teams.columns


nba_teams.rename(columns = {'W': 'Wins', 'L': 'Losses', 'W/L%': 'Win Percentage', 'PS/G': 'Points Scored/Game',
                  'PA/G': 'Points Allowed/Game', 'FG': 'Made Field Goals', 'FGA': 'Field Goals Attempted',
                  'FG%': 'Field Goal Percentage', '3P': '3 Pointers Made', '3PA': '3 Pointers Attempted',
                  '3P%': '3 Point Percentage', '2P': '2 Pointers Made', '3PA': '2 Pointers Attempted',
                  '2P%': '2 Point Percentage', 'FT': 'Free Throws Made', 'FTA': 'Free Throws Attempted',
                  'FT%': 'Free Throw Percentage', 'ORB': 'Offensive Rebounds', 'DRB': 'Defensive Rebounds',
                  'TRB': 'Total Rebounds', 'AST': 'Assists', 'STL': 'Steals', 'BLK': 'Blocks', 'TOV': 'Turnovers',
                  'PF': 'Personal Fouls', 'PTS': 'Points'}, inplace = True)


nba_teams.drop(["GB", "SRS", "Rk", "MP"], axis=1, inplace=True)



nba_teams.drop(["G"], axis=1, inplace=True)


nba_teams.reindex()


nba_teams.drop(12, inplace=True)



nba_teams.reset_index(drop=True, inplace=True)


nba_teams.index = nba_teams.index + 1


nba_teams['Team'] = nba_teams['Team'].str.rstrip('*')


type(nba_teams)



