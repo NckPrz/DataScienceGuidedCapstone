import pandas as pd
import os


rewards_df = pd.read_csv('rewardsdata.csv')


rewards_df.head()


missing_values = rewards_df.isna().sum()


missing_values


missing_values_percent = missing_values / len(rewards_df) * 100


missing_values_percent


rewards_df['Last Seen']


rewards_df['Last Seen'] = pd.to_datetime(rewards_df['Last Seen'])


rewards_df['Last Seen']


rewards_df['Last Seen'].min()


rewards_df['Last Seen'].max()


rewards_df['Last Seen'].fillna(value=rewards_df['Last Seen'].min(), inplace = True)


rewards_df.isna().sum()


rewards_df.dropna(inplace=True)


missing_values = rewards_df.isna().sum()


rewards_df.drop(columns='Tags', inplace=True)


rewards_df


rewards_df['City'].replace(to_replace=['Winston Salem', 'Winston Salem ',
       'Winston salem', 'Winston salem ', 'Winston-Salem',
       'Winston-Salem ', 'Winston-Salem, NC', 'Winston-salem'], value='Winston-Salem', inplace=True)


rewards_df['City'] = rewards_df['City'].str.strip()


rewards_df['City'] = rewards_df['City'].str.title()


city_values = rewards_df['City'].unique()
city_values


state_values = rewards_df['State'].unique()
state_values.sort()
state_values


us_state_to_abbrev = {
    "Alabama": "AL",
    "Alaska": "AK",
    "Arizona": "AZ",
    "Arkansas": "AR",
    "California": "CA",
    "Colorado": "CO",
    "Connecticut": "CT",
    "Delaware": "DE",
    "Florida": "FL",
    "Georgia": "GA",
    "Hawaii": "HI",
    "Idaho": "ID",
    "Illinois": "IL",
    "Indiana": "IN",
    "Iowa": "IA",
    "Kansas": "KS",
    "Kentucky": "KY",
    "Louisiana": "LA",
    "Maine": "ME",
    "Maryland": "MD",
    "Massachusetts": "MA",
    "Michigan": "MI",
    "Minnesota": "MN",
    "Mississippi": "MS",
    "Missouri": "MO",
    "Montana": "MT",
    "Nebraska": "NE",
    "Nevada": "NV",
    "New Hampshire": "NH",
    "New Jersey": "NJ",
    "New Mexico": "NM",
    "New York": "NY",
    "North Carolina": "NC",
    "North Dakota": "ND",
    "Ohio": "OH",
    "Oklahoma": "OK",
    "Oregon": "OR",
    "Pennsylvania": "PA",
    "Rhode Island": "RI",
    "South Carolina": "SC",
    "South Dakota": "SD",
    "Tennessee": "TN",
    "Texas": "TX",
    "Utah": "UT",
    "Vermont": "VT",
    "Virginia": "VA",
    "Washington": "WA",
    "West Virginia": "WV",
    "Wisconsin": "WI",
    "Wyoming": "WY",
    "District of Columbia": "DC",
    "American Samoa": "AS",
    "Guam": "GU",
    "Northern Mariana Islands": "MP",
    "Puerto Rico": "PR",
    "United States Minor Outlying Islands": "UM",
    "Virgin Islands, U.S.": "VI",
}
    


for state_name in us_state_to_abbrev:
    rewards_df['State'].replace(to_replace = state_name, value = us_state_to_abbrev[state_name], inplace=True)


state_values = rewards_df['State'].unique()
state_values.sort()
state_values


states_df = pd.DataFrame(list(us_state_to_abbrev.items()), columns=['State Name', 'State'])


states_df


rewards_df = pd.merge(rewards_df, states_df, on ='State', how='left')


rewards_df


State_name_col = rewards_df.pop('State Name')
rewards_df.insert(3, 'State Name', State_name_col)


rewards_df.rename(columns={'State': 'State Abbreviation'}, inplace=True)


rewards_df


rewards_df['Zip'].unique()


rewards_df['Zip'] = rewards_df['Zip'].str[:5]
state_zip_boolean_index = rewards_df['Zip'].str.len() == 5
rewards_df = rewards_df[state_zip_boolean_index]


rewards_df['City']


rewards_df['City'].unique()


rewards_df = rewards_df[rewards_df['City'] != 'G']
rewards_df = rewards_df[rewards_df['City'] != 'Lmao']


rewards_df['City'].unique()



