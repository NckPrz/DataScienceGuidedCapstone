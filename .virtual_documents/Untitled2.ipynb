import pandas as pd


months = ['october', 'november', 'december', 'january', 'february', 'march', 'april', 'may', 'june']
urls = {}

for month in months:
    url = f"https://www.basketball-reference.com/leagues/NBA_2024_games-{month}.html"

    urls[month] = url


all_months = []
for month, url in urls.items():
    df_list = pd.read_html(url)
    df = df_list[0]
    df['Month'] = month
    all_months.append(df)
    
    









