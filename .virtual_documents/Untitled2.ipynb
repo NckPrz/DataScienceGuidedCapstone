import pandas as pd 


months_2024 = ["october", "november", "december", "january", "february", "march", "april", "may", "june"]  # Add more as needed
urls = {}

for month in months_2024:
    url = f"https://www.basketball-reference.com/leagues/NBA_2024_games-{month}.html"
    urls[month] = url  # You can attach any object instead of just the URL



all_dataframes = []

for month, url in urls.items():
    # read_html returns a list of DataFrames
    df_list = pd.read_html(url)
    
    # assume only one dataframe per URL (wrapped in a list of shape [1])
    df = df_list[0]

    # optional: add a column for the month, if you want to track where it came from
    df['Month'] = month

    all_dataframes.append(df)

# Combine all the individual month DataFrames into one
final_df = pd.concat(all_dataframes, ignore_index=True)






January_games = pd.read_html(urls['january'])
January_games = pd.read_html(urls['january'])
January_games = pd.read_html(urls['january'])
January_games = pd.read_html(urls['january'])
January_games = pd.read_html(urls['january'])
January_games = pd.read_html(urls['january'])
January_games = pd.read_html(urls['january'])
January_games = pd.read_html(urls['january'])
January_games = pd.read_html(urls['january'])


january_df = January_games[0]



