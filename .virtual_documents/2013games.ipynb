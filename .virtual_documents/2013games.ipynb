import sqlite3
import pandas as pd

# Connect to the database
conn = sqlite3.connect("NBA-Boxscore-Database.sqlite")  # replace with your file

# Load data into a DataFrame
#df = pd.read_sql_query("SELECT * FROM ", conn)

# Close the connection
#conn.close()




# Get a list of all table names
cursor = conn.cursor()
cursor.execute("SELECT name FROM sqlite_master WHERE type='table';")
tables = cursor.fetchall()

# Print table names
for table in tables:
    print(table)

conn.close()



conn = sqlite3.connect("NBA-Boxscore-Database.sqlite")

# Load data into a DataFrame

df = pd.read_sql_query("SELECT * FROM game_info ", conn)

print(df)
# Close the connection
conn.close()



df['date'] = pd.to_datetime(df['date'])


df['date'] 


df['season']


df['season'] = df['season'].astype(str).str[:2] + "-" + df["season"].astype(str).str[2:]



df['season']



