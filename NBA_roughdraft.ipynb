{
 "cells": [
  {
   "cell_type": "code",
   "execution_count": 1,
   "id": "8cbd6b72-ecce-43dc-8620-1f8bb23df108",
   "metadata": {},
   "outputs": [],
   "source": [
    "import pandas as pd"
   ]
  },
  {
   "cell_type": "code",
   "execution_count": 2,
   "id": "b60d8f30-6c26-49e5-ab2f-e17f2e89b8e8",
   "metadata": {},
   "outputs": [],
   "source": [
    "#First, let's upload each teams stats and information for the year 2024.\n",
    "url = 'https://www.basketball-reference.com/leagues/NBA_2024.html'\n",
    "table1 = pd.read_html(url)\n",
    "\n",
    "#Let's create dataframes of both conferences in the NBA as well as stats for each of those teams\n",
    "\n",
    "Eastern_Conference_2024 = table1[0]\n",
    "Western_Conference_2024 = table1[1]\n",
    "Stats_2024 = table1[4]\n"
   ]
  },
  {
   "cell_type": "code",
   "execution_count": 3,
   "id": "a8123765-6c5a-4cf8-ae98-d6210f411b18",
   "metadata": {},
   "outputs": [],
   "source": [
    "#We want to combine both conferences into 1 dataframe, so lets change the name of the conference columns\n",
    "#into the column name Team\n",
    "\n",
    "Western_Conference_2024 = Western_Conference_2024.rename(columns = {'Western Conference': 'Team'})\n",
    "Eastern_Conference_2024 = Eastern_Conference_2024.rename(columns = {'Eastern Conference': 'Team'})\n",
    "nba_teams = pd.concat([Eastern_Conference_2024, Western_Conference_2024])\n",
    "\n",
    "#after combining both dataframes, lets merge the advanced stats dataframe with our new dataframe\n",
    "nba_teams = pd.merge(nba_teams, Stats_2024, on=\"Team\", how=\"outer\")\n"
   ]
  },
  {
   "cell_type": "code",
   "execution_count": null,
   "id": "de60a51b-8223-4b43-a94d-165e0293c4dc",
   "metadata": {},
   "outputs": [],
   "source": [
    "nba_teams.columns"
   ]
  },
  {
   "cell_type": "code",
   "execution_count": null,
   "id": "198b7536-c2bb-4ab8-a649-a057b97ac976",
   "metadata": {},
   "outputs": [],
   "source": [
    "nba_teams.rename(columns = {'W': 'Wins', 'L': 'Losses', 'W/L%': 'Win Percentage', 'PS/G': 'Points Scored/Game',\n",
    "                  'PA/G': 'Points Allowed/Game', 'FG': 'Made Field Goals', 'FGA': 'Field Goals Attempted',\n",
    "                  'FG%': 'Field Goal Percentage', '3P': '3 Pointers Made', '3PA': '3 Pointers Attempted',\n",
    "                  '3P%': '3 Point Percentage', '2P': '2 Pointers Made', '3PA': '2 Pointers Attempted',\n",
    "                  '2P%': '2 Point Percentage', 'FT': 'Free Throws Made', 'FTA': 'Free Throws Attempted',\n",
    "                  'FT%': 'Free Throw Percentage', 'ORB': 'Offensive Rebounds', 'DRB': 'Defensive Rebounds',\n",
    "                  'TRB': 'Total Rebounds', 'AST': 'Assists', 'STL': 'Steals', 'BLK': 'Blocks', 'TOV': 'Turnovers',\n",
    "                  'PF': 'Personal Fouls', 'PTS': 'Points'}, inplace = True)"
   ]
  },
  {
   "cell_type": "code",
   "execution_count": null,
   "id": "4afd3aa2-382f-4fac-945e-a0d1aa29307a",
   "metadata": {},
   "outputs": [],
   "source": [
    "nba_teams.drop([\"GB\", \"SRS\", \"Rk\", \"MP\", \"G\"], axis=1, inplace=True)\n"
   ]
  },
  {
   "cell_type": "code",
   "execution_count": null,
   "id": "0e738c04-8c70-4e11-aaae-6fc0370ffc39",
   "metadata": {},
   "outputs": [],
   "source": [
    "nba_teams.drop(12, inplace=True)\n"
   ]
  },
  {
   "cell_type": "code",
   "execution_count": null,
   "id": "d20faf1e-770b-44e6-b152-18efa96c2798",
   "metadata": {},
   "outputs": [],
   "source": [
    "nba_teams.reset_index(drop=True, inplace=True)"
   ]
  },
  {
   "cell_type": "code",
   "execution_count": null,
   "id": "79b3703b-63fe-4031-8f11-ae0cc3655349",
   "metadata": {},
   "outputs": [],
   "source": [
    "nba_teams.index = nba_teams.index + 1"
   ]
  },
  {
   "cell_type": "code",
   "execution_count": null,
   "id": "fd7bfadf-b3c3-4d80-8634-b58fccd47c7b",
   "metadata": {},
   "outputs": [],
   "source": [
    "nba_teams['Team'] = nba_teams['Team'].str.rstrip('*')"
   ]
  },
  {
   "cell_type": "code",
   "execution_count": null,
   "id": "7064e927-1c1b-4feb-86ac-f8ccfa212802",
   "metadata": {},
   "outputs": [],
   "source": [
    "nba_teams"
   ]
  },
  {
   "cell_type": "code",
   "execution_count": null,
   "id": "fcdec2c9-4ea8-485f-82c9-3d80bf6fb01a",
   "metadata": {},
   "outputs": [],
   "source": []
  }
 ],
 "metadata": {
  "kernelspec": {
   "display_name": "Python 3 (ipykernel)",
   "language": "python",
   "name": "python3"
  },
  "language_info": {
   "codemirror_mode": {
    "name": "ipython",
    "version": 3
   },
   "file_extension": ".py",
   "mimetype": "text/x-python",
   "name": "python",
   "nbconvert_exporter": "python",
   "pygments_lexer": "ipython3",
   "version": "3.10.0"
  }
 },
 "nbformat": 4,
 "nbformat_minor": 5
}
