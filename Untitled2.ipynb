{
 "cells": [
  {
   "cell_type": "code",
   "execution_count": 1,
   "id": "0593374a-a586-4c23-8fe6-9817832dcf71",
   "metadata": {},
   "outputs": [],
   "source": [
    "import pandas as pd"
   ]
  },
  {
   "cell_type": "code",
   "execution_count": 22,
   "id": "dc146352-38f7-4011-91bd-c17e672a9237",
   "metadata": {},
   "outputs": [],
   "source": [
    "months = ['october', 'november', 'december', 'january', 'february', 'march', 'april', 'may', 'june']\n",
    "urls = {}\n",
    "\n",
    "for month in months:\n",
    "    url = f\"https://www.basketball-reference.com/leagues/NBA_2024_games-{month}.html\"\n",
    "\n",
    "    urls[month] = url"
   ]
  },
  {
   "cell_type": "code",
   "execution_count": 35,
   "id": "3d60d1a4-201f-412e-b90b-db333e30cd8b",
   "metadata": {},
   "outputs": [],
   "source": [
    "all_months = []\n",
    "for month, url in urls.items():\n",
    "    df_list = pd.read_html(url)\n",
    "    df = df_list[0]\n",
    "    df['Month'] = month\n",
    "    all_months.append(df)\n",
    "    \n",
    "    "
   ]
  },
  {
   "cell_type": "code",
   "execution_count": 49,
   "id": "3cb3a90a-1ab5-45d9-8192-030c5caac7de",
   "metadata": {},
   "outputs": [
    {
     "data": {
      "text/plain": [
       "pandas.core.frame.DataFrame"
      ]
     },
     "execution_count": 49,
     "metadata": {},
     "output_type": "execute_result"
    }
   ],
   "source": []
  },
  {
   "cell_type": "code",
   "execution_count": null,
   "id": "ce32bea7-fa18-4b36-a363-fdac53243edd",
   "metadata": {},
   "outputs": [],
   "source": []
  },
  {
   "cell_type": "code",
   "execution_count": null,
   "id": "5e3d9260-a004-461f-8e0c-f6144b839a3a",
   "metadata": {},
   "outputs": [],
   "source": []
  }
 ],
 "metadata": {
  "kernelspec": {
   "display_name": "Python 3 (ipykernel)",
   "language": "python",
   "name": "python3"
  },
  "language_info": {
   "codemirror_mode": {
    "name": "ipython",
    "version": 3
   },
   "file_extension": ".py",
   "mimetype": "text/x-python",
   "name": "python",
   "nbconvert_exporter": "python",
   "pygments_lexer": "ipython3",
   "version": "3.12.7"
  }
 },
 "nbformat": 4,
 "nbformat_minor": 5
}
